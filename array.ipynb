{
  "nbformat": 4,
  "nbformat_minor": 0,
  "metadata": {
    "colab": {
      "name": "array",
      "provenance": [],
      "authorship_tag": "ABX9TyMXrxScSI8cyo08sg84j2Z4",
      "include_colab_link": true
    },
    "kernelspec": {
      "name": "python3",
      "display_name": "Python 3"
    }
  },
  "cells": [
    {
      "cell_type": "markdown",
      "metadata": {
        "id": "view-in-github",
        "colab_type": "text"
      },
      "source": [
        "<a href=\"https://colab.research.google.com/github/thammagig/redrose/blob/master/array.ipynb\" target=\"_parent\"><img src=\"https://colab.research.google.com/assets/colab-badge.svg\" alt=\"Open In Colab\"/></a>"
      ]
    },
    {
      "cell_type": "code",
      "metadata": {
        "id": "6r9AdTY26ti2",
        "colab_type": "code",
        "colab": {}
      },
      "source": [
        "# create one-dimensional array\n",
        "from numpy import array"
      ],
      "execution_count": 0,
      "outputs": []
    },
    {
      "cell_type": "code",
      "metadata": {
        "id": "JWxO3pw66_Tv",
        "colab_type": "code",
        "colab": {
          "base_uri": "https://localhost:8080/",
          "height": 52
        },
        "outputId": "b2328959-c33f-4338-a2e7-8260475358b0"
      },
      "source": [
        "# list of data\n",
        "data = [55, 44,33,22,11]\n",
        "print(data)\n",
        "print(type(data))"
      ],
      "execution_count": 4,
      "outputs": [
        {
          "output_type": "stream",
          "text": [
            "[55, 44, 33, 22, 11]\n",
            "<class 'list'>\n"
          ],
          "name": "stdout"
        }
      ]
    },
    {
      "cell_type": "code",
      "metadata": {
        "id": "84JQGBjq7HTn",
        "colab_type": "code",
        "colab": {
          "base_uri": "https://localhost:8080/",
          "height": 52
        },
        "outputId": "0c818d72-9090-417a-9a4e-5d883e3b2339"
      },
      "source": [
        "data = array(data)\n",
        "print(data)\n",
        "print(type(data))"
      ],
      "execution_count": 5,
      "outputs": [
        {
          "output_type": "stream",
          "text": [
            "[55 44 33 22 11]\n",
            "<class 'numpy.ndarray'>\n"
          ],
          "name": "stdout"
        }
      ]
    },
    {
      "cell_type": "code",
      "metadata": {
        "id": "tYh0x-qV7XnU",
        "colab_type": "code",
        "colab": {}
      },
      "source": [
        "data2 = [[11,22],\n",
        "         [33,44],\n",
        "         [55,66]]"
      ],
      "execution_count": 0,
      "outputs": []
    },
    {
      "cell_type": "code",
      "metadata": {
        "id": "Hd4GdTlO7s5e",
        "colab_type": "code",
        "colab": {
          "base_uri": "https://localhost:8080/",
          "height": 86
        },
        "outputId": "2f958f01-ecdd-42e5-97a0-7fe652aa218f"
      },
      "source": [
        "data2 = array(data2)\n",
        "print(data2)\n",
        "print(type(data2))"
      ],
      "execution_count": 7,
      "outputs": [
        {
          "output_type": "stream",
          "text": [
            "[[11 22]\n",
            " [33 44]\n",
            " [55 66]]\n",
            "<class 'numpy.ndarray'>\n"
          ],
          "name": "stdout"
        }
      ]
    },
    {
      "cell_type": "code",
      "metadata": {
        "id": "yJI5Up2_71JW",
        "colab_type": "code",
        "colab": {
          "base_uri": "https://localhost:8080/",
          "height": 34
        },
        "outputId": "e5213ffb-94b8-49e7-98d7-01a908fd96ee"
      },
      "source": [
        "data2[0]"
      ],
      "execution_count": 8,
      "outputs": [
        {
          "output_type": "execute_result",
          "data": {
            "text/plain": [
              "array([11, 22])"
            ]
          },
          "metadata": {
            "tags": []
          },
          "execution_count": 8
        }
      ]
    },
    {
      "cell_type": "code",
      "metadata": {
        "id": "V_VK8LJc7_21",
        "colab_type": "code",
        "colab": {
          "base_uri": "https://localhost:8080/",
          "height": 34
        },
        "outputId": "3dfaa1de-d6f3-488c-e576-c827d03b76db"
      },
      "source": [
        "data2[0][0]"
      ],
      "execution_count": 9,
      "outputs": [
        {
          "output_type": "execute_result",
          "data": {
            "text/plain": [
              "11"
            ]
          },
          "metadata": {
            "tags": []
          },
          "execution_count": 9
        }
      ]
    },
    {
      "cell_type": "code",
      "metadata": {
        "id": "8Ev_Lrbu8Dps",
        "colab_type": "code",
        "colab": {
          "base_uri": "https://localhost:8080/",
          "height": 34
        },
        "outputId": "df539e5a-31ce-4688-917a-29177e186235"
      },
      "source": [
        "data2[-1]"
      ],
      "execution_count": 10,
      "outputs": [
        {
          "output_type": "execute_result",
          "data": {
            "text/plain": [
              "array([55, 66])"
            ]
          },
          "metadata": {
            "tags": []
          },
          "execution_count": 10
        }
      ]
    },
    {
      "cell_type": "code",
      "metadata": {
        "id": "Py31poEl8KQZ",
        "colab_type": "code",
        "colab": {
          "base_uri": "https://localhost:8080/",
          "height": 34
        },
        "outputId": "9d1aa508-e168-4698-b276-a8739c78d1ec"
      },
      "source": [
        "data2[:,1]"
      ],
      "execution_count": 14,
      "outputs": [
        {
          "output_type": "execute_result",
          "data": {
            "text/plain": [
              "array([22, 44, 66])"
            ]
          },
          "metadata": {
            "tags": []
          },
          "execution_count": 14
        }
      ]
    },
    {
      "cell_type": "code",
      "metadata": {
        "id": "ZwMTVMPw8PKD",
        "colab_type": "code",
        "colab": {}
      },
      "source": [
        "data = array([[11,22,33],\n",
        "             [44,55,66],\n",
        "             [77,88,99]])"
      ],
      "execution_count": 0,
      "outputs": []
    },
    {
      "cell_type": "code",
      "metadata": {
        "id": "jXdp1tQW87PF",
        "colab_type": "code",
        "colab": {
          "base_uri": "https://localhost:8080/",
          "height": 86
        },
        "outputId": "7724a8b2-1ce6-448f-d2b9-cf41277ddd60"
      },
      "source": [
        "X, y = data[:,:-1] , data[:,-1]\n",
        "print(X)\n",
        "print(y)"
      ],
      "execution_count": 18,
      "outputs": [
        {
          "output_type": "stream",
          "text": [
            "[[11 22]\n",
            " [44 55]\n",
            " [77 88]]\n",
            "[33 66 99]\n"
          ],
          "name": "stdout"
        }
      ]
    },
    {
      "cell_type": "markdown",
      "metadata": {
        "id": "uoxRqHky9xl2",
        "colab_type": "text"
      },
      "source": [
        "It is common to split a loaded dataset into separate train and test sets. This is a splitting of rows where some portion will be used to train the model and the remaining portion will be used to estimate the skill of the trained model. This would involve slicing all columns by specifying : in the second dimension index. The training dataset would be all rows from the beginning to the split point."
      ]
    },
    {
      "cell_type": "markdown",
      "metadata": {
        "id": "snukRrwt9ZMf",
        "colab_type": "text"
      },
      "source": [
        "train = data[:split, :]\n",
        "\n",
        "test = data[split:, :]"
      ]
    },
    {
      "cell_type": "code",
      "metadata": {
        "id": "JRs1Yr1j9o_3",
        "colab_type": "code",
        "colab": {
          "base_uri": "https://localhost:8080/",
          "height": 69
        },
        "outputId": "72fbe563-0518-48e7-c1ba-6beca80eb3b2"
      },
      "source": [
        "# split train and test data\n",
        "from numpy import array\n",
        "# define array\n",
        "data = array([\n",
        "  [11, 22, 33],\n",
        "  [44, 55, 66],\n",
        "  [77, 88, 99]])\n",
        "# separate data\n",
        "split = 2\n",
        "train,test = data[:split,:],data[split:,:]\n",
        "print(train)\n",
        "print(test)\n"
      ],
      "execution_count": 19,
      "outputs": [
        {
          "output_type": "stream",
          "text": [
            "[[11 22 33]\n",
            " [44 55 66]]\n",
            "[[77 88 99]]\n"
          ],
          "name": "stdout"
        }
      ]
    },
    {
      "cell_type": "code",
      "metadata": {
        "id": "jhO1MemO94e0",
        "colab_type": "code",
        "colab": {
          "base_uri": "https://localhost:8080/",
          "height": 34
        },
        "outputId": "7e21d8c0-06fc-4aec-aa3b-80371c938557"
      },
      "source": [
        "# shape of one-dimensional array\n",
        "from numpy import array\n",
        "# define array\n",
        "data = array([11, 22, 33, 44, 55]) \n",
        "print(data.shape)"
      ],
      "execution_count": 21,
      "outputs": [
        {
          "output_type": "stream",
          "text": [
            "(5,)\n"
          ],
          "name": "stdout"
        }
      ]
    },
    {
      "cell_type": "code",
      "metadata": {
        "id": "sTrTR_Fe-AWq",
        "colab_type": "code",
        "colab": {
          "base_uri": "https://localhost:8080/",
          "height": 34
        },
        "outputId": "e5055313-91d7-4c9b-d8a7-cd8cd9d3dc6b"
      },
      "source": [
        "# shape of a two-dimensional array\n",
        "from numpy import array\n",
        "# list of data\n",
        "data = [[11, 22],\n",
        "[33, 44],\n",
        "[55, 66]]\n",
        "# array of data\n",
        "data = array(data) \n",
        "print(data.shape)"
      ],
      "execution_count": 23,
      "outputs": [
        {
          "output_type": "stream",
          "text": [
            "(3, 2)\n"
          ],
          "name": "stdout"
        }
      ]
    },
    {
      "cell_type": "code",
      "metadata": {
        "id": "i1lsywUl-ExG",
        "colab_type": "code",
        "colab": {
          "base_uri": "https://localhost:8080/",
          "height": 52
        },
        "outputId": "eafe97f6-9276-474e-f5ef-76b682fd343c"
      },
      "source": [
        "# row and column shape of two-dimensional array\n",
        "from numpy import array\n",
        "# list of data\n",
        "data = [[11, 22],\n",
        "        [33, 44],\n",
        "[55, 66]]\n",
        "# array of data\n",
        "data = array(data)\n",
        "print('Rows: %d' % data.shape[0]) \n",
        "print('Cols: %d' % data.shape[1])"
      ],
      "execution_count": 25,
      "outputs": [
        {
          "output_type": "stream",
          "text": [
            "Rows: 3\n",
            "Cols: 2\n"
          ],
          "name": "stdout"
        }
      ]
    },
    {
      "cell_type": "code",
      "metadata": {
        "id": "j-GDP6UO-X_Y",
        "colab_type": "code",
        "colab": {
          "base_uri": "https://localhost:8080/",
          "height": 52
        },
        "outputId": "a4dc7707-6cb0-4137-bfa1-64abf4dd17d4"
      },
      "source": [
        "\n",
        "# reshape 1D array to 2D\n",
        "from numpy import array\n",
        "# define array\n",
        "data = array([11, 22, 33, 44, 55]) \n",
        "print(data.shape)\n",
        "# reshape\n",
        "data = data.reshape((data.shape[0], 1)) \n",
        "print(data.shape)"
      ],
      "execution_count": 28,
      "outputs": [
        {
          "output_type": "stream",
          "text": [
            "(5,)\n",
            "(5, 1)\n"
          ],
          "name": "stdout"
        }
      ]
    },
    {
      "cell_type": "code",
      "metadata": {
        "id": "VUMOvvxc-oas",
        "colab_type": "code",
        "colab": {
          "base_uri": "https://localhost:8080/",
          "height": 104
        },
        "outputId": "7c6a732f-5b67-4b20-cc36-cadae1582d88"
      },
      "source": [
        "data"
      ],
      "execution_count": 29,
      "outputs": [
        {
          "output_type": "execute_result",
          "data": {
            "text/plain": [
              "array([[11],\n",
              "       [22],\n",
              "       [33],\n",
              "       [44],\n",
              "       [55]])"
            ]
          },
          "metadata": {
            "tags": []
          },
          "execution_count": 29
        }
      ]
    },
    {
      "cell_type": "code",
      "metadata": {
        "id": "UtPpmUVC-v4e",
        "colab_type": "code",
        "colab": {
          "base_uri": "https://localhost:8080/",
          "height": 52
        },
        "outputId": "a7a54dbd-30ab-4d98-b11c-746b2fb95bb8"
      },
      "source": [
        "# reshape 2D array to 3D\n",
        "from numpy import array\n",
        "# list of data\n",
        "data = [[11, 22],\n",
        "[33, 44],\n",
        "[55, 66]]\n",
        "# array of data\n",
        "data = array(data)\n",
        "print(data.shape)\n",
        "# reshape\n",
        "data = data.reshape((data.shape[0], data.shape[1], 1)) \n",
        "print(data.shape)"
      ],
      "execution_count": 30,
      "outputs": [
        {
          "output_type": "stream",
          "text": [
            "(3, 2)\n",
            "(3, 2, 1)\n"
          ],
          "name": "stdout"
        }
      ]
    },
    {
      "cell_type": "code",
      "metadata": {
        "id": "wocEte8i_PlF",
        "colab_type": "code",
        "colab": {}
      },
      "source": [
        ""
      ],
      "execution_count": 0,
      "outputs": []
    }
  ]
}